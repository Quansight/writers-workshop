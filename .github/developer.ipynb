{
 "cells": [
  {
   "cell_type": "markdown",
   "id": "7dfcd87d",
   "metadata": {},
   "source": [
    "# developer notes\n",
    "\n",
    "the documentation is build with jupyter book and sphinx"
   ]
  },
  {
   "cell_type": "markdown",
   "id": "bbd34d13",
   "metadata": {},
   "source": [
    "## run in an isolated environment\n",
    "\n",
    "this option requires nox for session management."
   ]
  },
  {
   "cell_type": "markdown",
   "id": "9c720e88",
   "metadata": {},
   "source": [
    "### build the html docs"
   ]
  },
  {
   "cell_type": "markdown",
   "id": "efb2beae",
   "metadata": {},
   "source": [
    "    !nox -s docs"
   ]
  },
  {
   "cell_type": "markdown",
   "id": "7b053e7f",
   "metadata": {},
   "source": [
    "### build the pdf docs"
   ]
  },
  {
   "cell_type": "markdown",
   "id": "d699a1bb",
   "metadata": {},
   "source": [
    "    !nox -s docs -- pdf"
   ]
  },
  {
   "cell_type": "markdown",
   "id": "05cbfc6b",
   "metadata": {},
   "source": [
    "## running tasks in your environment\n",
    "\n",
    "`nox` runs `doit`, `doit` manages files tasks, and you can use it directly."
   ]
  },
  {
   "cell_type": "markdown",
   "id": "07ff3d1a",
   "metadata": {},
   "source": [
    "list the tasks available."
   ]
  },
  {
   "cell_type": "code",
   "execution_count": 5,
   "id": "26b71c1e",
   "metadata": {},
   "outputs": [
    {
     "name": "stdout",
     "output_type": "stream",
     "text": [
      "config          \n",
      "html            build the html version of the project\n",
      "install_book    install the jupyter book sphinx dependencies\n",
      "install_latex   install the latex dependencies\n",
      "pdf             build the html version of the project\n",
      "short           configure the content for the short stories\n"
     ]
    }
   ],
   "source": [
    "    !doit list"
   ]
  },
  {
   "cell_type": "markdown",
   "id": "383ec173",
   "metadata": {},
   "source": [
    "Build the html content"
   ]
  },
  {
   "cell_type": "markdown",
   "id": "4e29a6cc",
   "metadata": {},
   "source": [
    "    !doit html"
   ]
  }
 ],
 "metadata": {
  "kernelspec": {
   "display_name": "Python 3",
   "language": "python",
   "name": "python3"
  },
  "language_info": {
   "codemirror_mode": {
    "name": "ipython",
    "version": 3
   },
   "file_extension": ".py",
   "mimetype": "text/x-python",
   "name": "python",
   "nbconvert_exporter": "python",
   "pygments_lexer": "ipython3",
   "version": "3.7.7"
  }
 },
 "nbformat": 4,
 "nbformat_minor": 5
}
