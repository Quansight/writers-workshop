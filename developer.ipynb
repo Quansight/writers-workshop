{
 "cells": [
  {
   "cell_type": "markdown",
   "id": "0661985c",
   "metadata": {},
   "source": [
    "# developer notes\n",
    "\n",
    "the documentation is build with jupyter book and sphinx\n",
    "\n",
    "> this notebook was designed to be used as interface for running these actions. change the markdown cells to code cells to execute them."
   ]
  },
  {
   "cell_type": "markdown",
   "id": "16c0ecbe",
   "metadata": {},
   "source": [
    "## run in an isolated environment\n",
    "\n",
    "this option requires nox for session management."
   ]
  },
  {
   "cell_type": "markdown",
   "id": "abb6217b",
   "metadata": {},
   "source": [
    "### build the html docs"
   ]
  },
  {
   "cell_type": "markdown",
   "id": "72dd7b6a",
   "metadata": {},
   "source": [
    "    !nox -s docs"
   ]
  },
  {
   "cell_type": "markdown",
   "id": "bf930acc",
   "metadata": {},
   "source": [
    "### build the pdf docs"
   ]
  },
  {
   "cell_type": "markdown",
   "id": "f6f14998",
   "metadata": {},
   "source": [
    "    !nox -s docs -- pdf"
   ]
  },
  {
   "cell_type": "markdown",
   "id": "67d24bfc",
   "metadata": {},
   "source": [
    "## running tasks in your environment\n",
    "\n",
    "`nox` runs `doit`, `doit` manages files tasks, and you can use it directly."
   ]
  },
  {
   "cell_type": "markdown",
   "id": "e5509a81",
   "metadata": {},
   "source": [
    "list the tasks available."
   ]
  },
  {
   "cell_type": "code",
   "execution_count": 5,
   "id": "f1b04a58",
   "metadata": {},
   "outputs": [
    {
     "name": "stdout",
     "output_type": "stream",
     "text": [
      "config          \n",
      "html            build the html version of the project\n",
      "install_book    install the jupyter book sphinx dependencies\n",
      "install_latex   install the latex dependencies\n",
      "pdf             build the html version of the project\n",
      "short           configure the content for the short stories\n"
     ]
    }
   ],
   "source": [
    "    !doit list"
   ]
  },
  {
   "cell_type": "markdown",
   "id": "58e313ad",
   "metadata": {},
   "source": [
    "Build the html content"
   ]
  },
  {
   "cell_type": "markdown",
   "id": "aad9d72f",
   "metadata": {},
   "source": [
    "    !doit html"
   ]
  }
 ],
 "metadata": {
  "kernelspec": {
   "display_name": "Python 3",
   "language": "python",
   "name": "python3"
  },
  "language_info": {
   "codemirror_mode": {
    "name": "ipython",
    "version": 3
   },
   "file_extension": ".py",
   "mimetype": "text/x-python",
   "name": "python",
   "nbconvert_exporter": "python",
   "pygments_lexer": "ipython3",
   "version": "3.7.7"
  }
 },
 "nbformat": 4,
 "nbformat_minor": 5
}
